{
  "nbformat": 4,
  "nbformat_minor": 0,
  "metadata": {
    "kernelspec": {
      "display_name": "Python 3",
      "language": "python",
      "name": "python3"
    },
    "language_info": {
      "codemirror_mode": {
        "name": "ipython",
        "version": 3
      },
      "file_extension": ".py",
      "mimetype": "text/x-python",
      "name": "python",
      "nbconvert_exporter": "python",
      "pygments_lexer": "ipython3",
      "version": "3.7.6"
    },
    "colab": {
      "name": "AI Project FINAL FINAL.ipynb",
      "provenance": []
    }
  },
  "cells": [
    {
      "cell_type": "markdown",
      "metadata": {
        "id": "VeU0rv5xMtXI"
      },
      "source": [
        "# AI - Project\n",
        "Muhammad Fateh Tariq - FA17_BSCS-019 | \n",
        "Asad Ali Hasani - FA17_BSCS-020 | \n",
        "Osama Syed - FA17_BSCS-069 | \n",
        "Salman Ahmed - FA17_BSCS-082"
      ]
    },
    {
      "cell_type": "code",
      "metadata": {
        "id": "x5Gjx1LTMtXP"
      },
      "source": [
        "import math as mt\n",
        "import pandas as pd\n",
        "import numpy as np\n",
        "import copy as copy\n",
        "import sklearn.metrics"
      ],
      "execution_count": null,
      "outputs": []
    },
    {
      "cell_type": "code",
      "metadata": {
        "id": "jVXUv--sMtXQ",
        "outputId": "b109d834-9d24-43a1-a313-909720d57701"
      },
      "source": [
        "StudentInfo = pd.read_excel('Book1.xlsx')\n",
        "print('Student Info: ')\n",
        "\n",
        "print(StudentInfo)\n",
        "\n",
        "\n",
        "arr = StudentInfo.to_numpy()\n",
        "arrT = np.transpose(arr)\n",
        "\n",
        "print('\\n' + str(arr))"
      ],
      "execution_count": null,
      "outputs": [
        {
          "output_type": "stream",
          "text": [
            "Student Info: \n",
            "   English  Maths  Physics  Chemistry  Computers Science  Urdu  Pak.Studies\n",
            "0       40     11        0          4                 37    22           44\n",
            "1       30     40       18         18                  0    11            0\n",
            "2       50      0       50          9                 41    54           32\n",
            "3       20     35       41          0                 18    21           41\n",
            "4        0     42       47         28                 20    44           43\n",
            "5       28     10       28         33                  0    55           12\n",
            "6       33     22       11         43                 53     0           33\n",
            "\n",
            "[[40 11  0  4 37 22 44]\n",
            " [30 40 18 18  0 11  0]\n",
            " [50  0 50  9 41 54 32]\n",
            " [20 35 41  0 18 21 41]\n",
            " [ 0 42 47 28 20 44 43]\n",
            " [28 10 28 33  0 55 12]\n",
            " [33 22 11 43 53  0 33]]\n"
          ],
          "name": "stdout"
        }
      ]
    },
    {
      "cell_type": "markdown",
      "metadata": {
        "id": "q3XGQ_PgMtXS"
      },
      "source": [
        "# Similarity Functions"
      ]
    },
    {
      "cell_type": "code",
      "metadata": {
        "id": "IATEFrcaMtXS"
      },
      "source": [
        "def cosineDeff(v1, v2):\n",
        "    aIntob = 0\n",
        "    aSquare = 0\n",
        "    bSquare = 0\n",
        "\n",
        "    if(len(v1) == len(v2)):\n",
        "        for i in range(len(v1)):\n",
        "            aIntob += v1[i] * v2[i]\n",
        "            aSquare += v1[i] * v1[i]\n",
        "            bSquare += v2[i] * v2[i]\n",
        "\n",
        "    return aIntob / (mt.sqrt(aSquare) * mt.sqrt(bSquare))\n",
        "\n",
        "def AvgCossimDeff(v1, v2):\n",
        "    aIntob = 0\n",
        "    aSquare = 0\n",
        "    bSquare = 0\n",
        "\n",
        "    if(len(v1) == len(v2)):\n",
        "        for i in range(len(v1)):\n",
        "            aIntob += v1[i] * v2[i]\n",
        "            aSquare += v1[i] * v1[i]\n",
        "            bSquare += v2[i] * v2[i]\n",
        "\n",
        "    return aIntob / (mt.sqrt(aSquare) * mt.sqrt(bSquare))\n",
        "\n",
        "def CencosineDeff(v1, v2, r1, r2):\n",
        "    aIntob = 0\n",
        "    aSquare = 0\n",
        "    bSquare = 0\n",
        "    newV1 = 0\n",
        "    newV2 = 0\n",
        "\n",
        "    if(len(v1) == len(v2)):\n",
        "        for i in range(len(v1)):\n",
        "            if (v1[i] != 0):\n",
        "                newV1 = v1[i]-(r1)\n",
        "            else:\n",
        "                newV1 = 0\n",
        "\n",
        "            if (v2[i] != 0):\n",
        "                newV2 = v2[i]-(r2)\n",
        "            else:\n",
        "                newV2 = 0\n",
        "\n",
        "            aIntob += newV1 * newV2\n",
        "            aSquare += newV1 * newV1\n",
        "            bSquare += newV2 * newV2\n",
        "\n",
        "    return aIntob / (mt.sqrt(aSquare) * mt.sqrt(bSquare))\n",
        "\n",
        "def pearsonCorr(v1, v2):\n",
        "\n",
        "    sum_a = 0\n",
        "    sum_b = 0\n",
        "    aIntob = 0\n",
        "    aSquare = 0\n",
        "    bSquare = 0\n",
        "    n = len(v1)\n",
        "    r = 0\n",
        "\n",
        "    if(len(v1) == len(v2)):\n",
        "        for i in range(len(v1)):\n",
        "            sum_a += v1[i]\n",
        "            sum_b += v2[i]\n",
        "\n",
        "            aIntob += v1[i] * v2[i]\n",
        "            aSquare += v1[i] * v1[i]\n",
        "            bSquare += v2[i] * v2[i]\n",
        "\n",
        "    numerator = (n*(aIntob)-(sum_a*sum_b))\n",
        "    denumerator = mt.sqrt(((n*aSquare)-(sum_a*sum_a))\n",
        "                          * ((n*bSquare)-(sum_b*sum_b)))\n",
        "\n",
        "    r = numerator/denumerator\n",
        "    return r\n",
        "\n",
        "def listAverage(arr):\n",
        "    sumN = 0\n",
        "    lessen = 0\n",
        "    for n in range(len(arr)):\n",
        "        if(arr[n] != 0):\n",
        "            sumN += arr[n]\n",
        "        else:\n",
        "            lessen += 1\n",
        "    return sumN / (len(arr) - lessen)\n",
        "\n",
        "def CenteredCosimMatrix(arr):\n",
        "    conresult = []\n",
        "\n",
        "    for i in range(len(arr)):\n",
        "        conresult.append([])\n",
        "\n",
        "    for i in range(len(arr)):\n",
        "        r1 = listAverage(arr[i])\n",
        "\n",
        "        for k in range(i, len(arr)):\n",
        "            r2 = listAverage(arr[k])\n",
        "\n",
        "            r3 = CencosineDeff(arr[i], arr[k], r1, r2)\n",
        "\n",
        "            conresult[i].append(r3)\n",
        "            if(i != k):\n",
        "                conresult[k].append(r3)\n",
        "    return conresult\n",
        "\n",
        "def AvgCossimMatrix(arr):\n",
        "    cenresult = []\n",
        "    for i in arr:\n",
        "        cenresult.append([])\n",
        "\n",
        "    for i in range(len(arr)):\n",
        "        avg = listAverage(arr[i])\n",
        "\n",
        "        for j in range(i, len(arr)):\n",
        "            avg0 = listAverage(arr[j])\n",
        "            arr1 = copy.deepcopy(arr[i])\n",
        "            arr2 = copy.deepcopy(arr[j])\n",
        "            for x in range(len(arr)):\n",
        "                if(mt.isnan(arr1[x])):\n",
        "                    arr1[x] = avg\n",
        "\n",
        "                if(mt.isnan(arr2[x])):\n",
        "                    arr2[x] = avg0\n",
        "\n",
        "            r = AvgCossimDeff(arr1, arr2)\n",
        "            cenresult[i].append(r)\n",
        "            if(i != j):\n",
        "                cenresult[j].append(r)\n",
        "    return cenresult\n",
        "\n",
        "def PearMatrix(arr):\n",
        "    peresult = []\n",
        "    for i in range(len(arr)):\n",
        "        peresult.append([])\n",
        "    for i in range(len(arr)):\n",
        "        for j in range(i, len(arr)):\n",
        "            r = pearsonCorr(arr[i], arr[j])\n",
        "            peresult[i].append(r)\n",
        "            if(i != j):\n",
        "                peresult[j].append(r)\n",
        "    return peresult\n",
        "\n",
        "def simFunc(arr1, arr2):\n",
        "    result = cosineDeff(arr1, arr2)\n",
        "    return result\n",
        "\n",
        "def simMatrix(arr):\n",
        "    result = []\n",
        "    for i in range(len(arr)):\n",
        "        result.append([])\n",
        "    for i in range(len(arr)):\n",
        "        for j in range(i, len(arr)):\n",
        "            r = simFunc(arr[i], arr[j])\n",
        "            result[i].append(r)\n",
        "            if(i != j):\n",
        "                result[j].append(r)\n",
        "    return result\n",
        "\n"
      ],
      "execution_count": null,
      "outputs": []
    },
    {
      "cell_type": "code",
      "metadata": {
        "id": "W1xFTRdQMtXV"
      },
      "source": [
        "result = simMatrix(arr)\n",
        "cenresult = AvgCossimMatrix(arr)\n",
        "conresult = CenteredCosimMatrix(arr)\n",
        "peresult = PearMatrix(arr)"
      ],
      "execution_count": null,
      "outputs": []
    },
    {
      "cell_type": "markdown",
      "metadata": {
        "id": "dVxG70m2MtXW"
      },
      "source": [
        "# Similarity Matrix"
      ]
    },
    {
      "cell_type": "code",
      "metadata": {
        "id": "iYxpZZGbMtXY",
        "outputId": "26aa2916-83eb-404b-b64b-f00996b1d85e"
      },
      "source": [
        "print('')\n",
        "print('cosine similarity Matrix: ')\n",
        "print(np.array(result))\n",
        "print('')\n",
        "print('Avg Consin Matrix: ')\n",
        "print(np.array(cenresult))\n",
        "print('')\n",
        "print('Centered Consin Matrix: ')\n",
        "print(np.array(conresult))\n",
        "print('')\n",
        "print('Pearson Matrix: ')\n",
        "print(np.array(peresult))\n",
        "print('')"
      ],
      "execution_count": null,
      "outputs": [
        {
          "output_type": "stream",
          "text": [
            "\n",
            "cosine similarity Matrix: \n",
            "[[1.         0.45973933 0.79958857 0.73024062 0.59378561 0.5417207\n",
            "  0.80266269]\n",
            " [0.45973933 1.         0.53357695 0.68468892 0.64994553 0.66865482\n",
            "  0.57623676]\n",
            " [0.79958857 0.53357695 1.         0.79455668 0.73335046 0.81005358\n",
            "  0.65174285]\n",
            " [0.73024062 0.68468892 0.79455668 1.         0.89852209 0.63459691\n",
            "  0.64014975]\n",
            " [0.59378561 0.64994553 0.73335046 0.89852209 1.         0.76874012\n",
            "  0.62816847]\n",
            " [0.5417207  0.66865482 0.81005358 0.63459691 0.76874012 1.\n",
            "  0.4919859 ]\n",
            " [0.80266269 0.57623676 0.65174285 0.64014975 0.62816847 0.4919859\n",
            "  1.        ]]\n",
            "\n",
            "Avg Consin Matrix: \n",
            "[[1.         0.45973933 0.79958857 0.73024062 0.59378561 0.5417207\n",
            "  0.80266269]\n",
            " [0.45973933 1.         0.53357695 0.68468892 0.64994553 0.66865482\n",
            "  0.57623676]\n",
            " [0.79958857 0.53357695 1.         0.79455668 0.73335046 0.81005358\n",
            "  0.65174285]\n",
            " [0.73024062 0.68468892 0.79455668 1.         0.89852209 0.63459691\n",
            "  0.64014975]\n",
            " [0.59378561 0.64994553 0.73335046 0.89852209 1.         0.76874012\n",
            "  0.62816847]\n",
            " [0.5417207  0.66865482 0.81005358 0.63459691 0.76874012 1.\n",
            "  0.4919859 ]\n",
            " [0.80266269 0.57623676 0.65174285 0.64014975 0.62816847 0.4919859\n",
            "  1.        ]]\n",
            "\n",
            "Centered Consin Matrix: \n",
            "[[ 1.          0.01174226  0.46541351 -0.10380103  0.0261108  -0.17705461\n",
            "   0.13102994]\n",
            " [ 0.01174226  1.         -0.00606547  0.13011335 -0.01261841 -0.7849467\n",
            "  -0.14576357]\n",
            " [ 0.46541351 -0.00606547  1.         -0.22062292  0.45606569  0.26249998\n",
            "  -0.40911141]\n",
            " [-0.10380103  0.13011335 -0.22062292  1.          0.59252977 -0.57520901\n",
            "  -0.671478  ]\n",
            " [ 0.0261108  -0.01261841  0.45606569  0.59252977  1.         -0.04045515\n",
            "  -0.88465451]\n",
            " [-0.17705461 -0.7849467   0.26249998 -0.57520901 -0.04045515  1.\n",
            "   0.18686679]\n",
            " [ 0.13102994 -0.14576357 -0.40911141 -0.671478   -0.88465451  0.18686679\n",
            "   1.        ]]\n",
            "\n",
            "Pearson Matrix: \n",
            "[[ 1.         -0.42812127  0.35444254  0.0895663  -0.47303731 -0.32760296\n",
            "   0.37576675]\n",
            " [-0.42812127  1.         -0.41527208  0.02066903 -0.15067729  0.10419536\n",
            "  -0.25689506]\n",
            " [ 0.35444254 -0.41527208  1.          0.15733216 -0.17128129  0.36560027\n",
            "  -0.32288902]\n",
            " [ 0.0895663   0.02066903  0.15733216  1.          0.52925764 -0.28849078\n",
            "  -0.43785736]\n",
            " [-0.47303731 -0.15067729 -0.17128129  0.52925764  1.          0.15117409\n",
            "  -0.59117064]\n",
            " [-0.32760296  0.10419536  0.36560027 -0.28849078  0.15117409  1.\n",
            "  -0.67894184]\n",
            " [ 0.37576675 -0.25689506 -0.32288902 -0.43785736 -0.59117064 -0.67894184\n",
            "   1.        ]]\n",
            "\n"
          ],
          "name": "stdout"
        }
      ]
    },
    {
      "cell_type": "code",
      "metadata": {
        "id": "0lyCVfE-MtXZ"
      },
      "source": [
        "def average2(v1, v2):\n",
        "    return (v1 + v2) / 2\n",
        "\n",
        "\n",
        "def average3(v1, v2, v3):\n",
        "    return (v1 + v2 + v3) / 3\n",
        "\n",
        "\n",
        "def average4(v1, v2, v3, v4):\n",
        "    return (v1 + v2 + v3 + v4) / 4"
      ],
      "execution_count": null,
      "outputs": []
    },
    {
      "cell_type": "code",
      "metadata": {
        "id": "K8whbvTVMtXa"
      },
      "source": [
        "result = simMatrix(arr)"
      ],
      "execution_count": null,
      "outputs": []
    },
    {
      "cell_type": "code",
      "metadata": {
        "id": "C72Yq0LeMtXb"
      },
      "source": [
        "def sortedMatrix(result):\n",
        "    rs = []\n",
        "    for i in result:\n",
        "        i.sort(reverse=True)\n",
        "        rs.append(i)\n",
        "    return rs"
      ],
      "execution_count": null,
      "outputs": []
    },
    {
      "cell_type": "markdown",
      "metadata": {
        "id": "p2ZcJ6r5MtXc"
      },
      "source": [
        "# Sorted Indices Matrix"
      ]
    },
    {
      "cell_type": "code",
      "metadata": {
        "id": "q8KDdLMhMtXd"
      },
      "source": [
        "key = []\n",
        "for i in result:\n",
        "    key.append(sorted(range(len(i)), reverse=True, key=lambda k: i[k]))\n",
        "key = np.array(key)\n",
        "\n",
        "pkey = []\n",
        "for i in peresult:\n",
        "    pkey.append(sorted(range(len(i)), reverse=True, key=lambda k: i[k]))\n",
        "pkey = np.array(pkey)"
      ],
      "execution_count": null,
      "outputs": []
    },
    {
      "cell_type": "code",
      "metadata": {
        "id": "ol3EsuojMtXd",
        "outputId": "ce54593c-a41c-466b-d0ad-3f49c58c2f80"
      },
      "source": [
        "print('Indices Cosine Matrix: ')\n",
        "print(key)\n",
        "print('')\n",
        "\n",
        "print('Indices Pearson Matrix: ')\n",
        "print(pkey)\n",
        "print('')"
      ],
      "execution_count": null,
      "outputs": [
        {
          "output_type": "stream",
          "text": [
            "Indices Cosine Matrix: \n",
            "[[0 6 2 3 4 5 1]\n",
            " [1 3 5 4 6 2 0]\n",
            " [2 5 0 3 4 6 1]\n",
            " [3 4 2 0 1 6 5]\n",
            " [4 3 5 2 1 6 0]\n",
            " [5 2 4 1 3 0 6]\n",
            " [6 0 2 3 4 1 5]]\n",
            "\n",
            "Indices Pearson Matrix: \n",
            "[[0 6 2 3 5 1 4]\n",
            " [1 5 3 4 6 2 0]\n",
            " [2 5 0 3 4 6 1]\n",
            " [3 4 2 0 1 5 6]\n",
            " [4 3 5 1 2 0 6]\n",
            " [5 2 4 1 3 0 6]\n",
            " [6 0 1 2 3 4 5]]\n",
            "\n"
          ],
          "name": "stdout"
        }
      ]
    },
    {
      "cell_type": "code",
      "metadata": {
        "id": "nI7kWXn9MtXe"
      },
      "source": [
        "sortedArr = sortedMatrix(result)\n",
        "sortedArrP = sortedMatrix(peresult)\n",
        "\n",
        "sortedArr2 = np.array(sortedArr)\n",
        "sortedArrP2 = np.array(sortedArrP)"
      ],
      "execution_count": null,
      "outputs": []
    },
    {
      "cell_type": "code",
      "metadata": {
        "id": "TC9tZwJlMtXf",
        "outputId": "6871c07d-50b9-4cbb-a2e8-df3e1688562d"
      },
      "source": [
        "print('Similarity Indices Cosine Matrix: ')\n",
        "print(sortedArr2)\n",
        "print(\"\")\n",
        "print('Similarity Indices Pearson Matrix: ')\n",
        "print(sortedArrP2)"
      ],
      "execution_count": null,
      "outputs": [
        {
          "output_type": "stream",
          "text": [
            "Similarity Indices Cosine Matrix: \n",
            "[[1.         0.80266269 0.79958857 0.73024062 0.59378561 0.5417207\n",
            "  0.45973933]\n",
            " [1.         0.68468892 0.66865482 0.64994553 0.57623676 0.53357695\n",
            "  0.45973933]\n",
            " [1.         0.81005358 0.79958857 0.79455668 0.73335046 0.65174285\n",
            "  0.53357695]\n",
            " [1.         0.89852209 0.79455668 0.73024062 0.68468892 0.64014975\n",
            "  0.63459691]\n",
            " [1.         0.89852209 0.76874012 0.73335046 0.64994553 0.62816847\n",
            "  0.59378561]\n",
            " [1.         0.81005358 0.76874012 0.66865482 0.63459691 0.5417207\n",
            "  0.4919859 ]\n",
            " [1.         0.80266269 0.65174285 0.64014975 0.62816847 0.57623676\n",
            "  0.4919859 ]]\n",
            "\n",
            "Similarity Indices Pearson Matrix: \n",
            "[[ 1.          0.37576675  0.35444254  0.0895663  -0.32760296 -0.42812127\n",
            "  -0.47303731]\n",
            " [ 1.          0.10419536  0.02066903 -0.15067729 -0.25689506 -0.41527208\n",
            "  -0.42812127]\n",
            " [ 1.          0.36560027  0.35444254  0.15733216 -0.17128129 -0.32288902\n",
            "  -0.41527208]\n",
            " [ 1.          0.52925764  0.15733216  0.0895663   0.02066903 -0.28849078\n",
            "  -0.43785736]\n",
            " [ 1.          0.52925764  0.15117409 -0.15067729 -0.17128129 -0.47303731\n",
            "  -0.59117064]\n",
            " [ 1.          0.36560027  0.15117409  0.10419536 -0.28849078 -0.32760296\n",
            "  -0.67894184]\n",
            " [ 1.          0.37576675 -0.25689506 -0.32288902 -0.43785736 -0.59117064\n",
            "  -0.67894184]]\n"
          ],
          "name": "stdout"
        }
      ]
    },
    {
      "cell_type": "markdown",
      "metadata": {
        "id": "YZCAt8SAMtXg"
      },
      "source": [
        "# Weighted Average"
      ]
    },
    {
      "cell_type": "code",
      "metadata": {
        "id": "q1aRwA0xMtXg"
      },
      "source": [
        "def wAverage(user, num, pridictedIndex):\n",
        "    similerUser = {}\n",
        "    for i in range(len(key)):\n",
        "        if((i + 1) <= num):\n",
        "            similerUser.update(\n",
        "                {key[int(user)][i + 1]: sortedArr2[int(user)][i]})\n",
        "    s = 0\n",
        "    avgTotal = 0\n",
        "    weightedAverage = 0\n",
        "\n",
        "    index = pridictedIndex\n",
        "    for similerUserKeys in similerUser:\n",
        "        s += similerUser[similerUserKeys] * arr[similerUserKeys][int(index)]\n",
        "        avgTotal += similerUser[similerUserKeys]\n",
        "    weightedAverage = s/avgTotal\n",
        "\n",
        "    return weightedAverage\n",
        "\n",
        "\n",
        "def wAverageI(user, num, pridictedIndex):\n",
        "    similerUser = {}\n",
        "    for i in range(len(key)):\n",
        "        if((i + 1) <= num):\n",
        "            similerUser.update(\n",
        "                {key[int(user)][i + 1]: sortedArr3[int(user)][i]})\n",
        "    s = 0\n",
        "    avgTotal = 0\n",
        "    weightedAverage = 0\n",
        "\n",
        "    index = pridictedIndex\n",
        "    for similerUserKeys in similerUser:\n",
        "        s += similerUser[similerUserKeys] * arr[similerUserKeys][int(index)]\n",
        "        avgTotal += similerUser[similerUserKeys]\n",
        "    weightedAverage = s/avgTotal\n",
        "\n",
        "    return weightedAverage\n",
        "\n",
        "def pwAverage(user, num, pridictedIndex):\n",
        "    similerUser = {}\n",
        "    for i in range(len(pkey)):\n",
        "        if((i + 1) <= num):\n",
        "            similerUser.update(\n",
        "                {pkey[int(user)][i + 1]: sortedArrP2[int(user)][i]})\n",
        "    s = 0\n",
        "    avgTotal = 0\n",
        "    weightedAverage = 0\n",
        "\n",
        "    index = pridictedIndex\n",
        "    for similerUserKeys in similerUser:\n",
        "        s += similerUser[similerUserKeys] * arr[similerUserKeys][int(index)]\n",
        "        avgTotal += similerUser[similerUserKeys]\n",
        "    weightedAverage = s/avgTotal\n",
        "\n",
        "    return weightedAverage\n",
        "\n",
        "\n",
        "def pwAverageI(user, num, pridictedIndex):\n",
        "    similerUser = {}\n",
        "    for i in range(len(pkey)):\n",
        "        if((i + 1) <= num):\n",
        "            similerUser.update(\n",
        "                {pkey[int(user)][i + 1]: sortedArrP2[int(user)][i]})\n",
        "    s = 0\n",
        "    avgTotal = 0\n",
        "    weightedAverage = 0\n",
        "\n",
        "    index = pridictedIndex\n",
        "    for similerUserKeys in similerUser:\n",
        "        s += similerUser[similerUserKeys] * arr[similerUserKeys][int(index)]\n",
        "        avgTotal += similerUser[similerUserKeys]\n",
        "    weightedAverage = s/avgTotal\n",
        "\n",
        "    return weightedAverage"
      ],
      "execution_count": null,
      "outputs": []
    },
    {
      "cell_type": "code",
      "metadata": {
        "id": "5N3id34vMtXh"
      },
      "source": [
        "def replaceWithW(arr, value, predictedValue):\n",
        "    arr[predictedValue] = value"
      ],
      "execution_count": null,
      "outputs": []
    },
    {
      "cell_type": "code",
      "metadata": {
        "id": "MoIbbAaRMtXh"
      },
      "source": [
        "arrCopy = copy.deepcopy(arr)\n",
        "arrCopy2 = copy.deepcopy(arr)\n",
        "arrcopym = copy.deepcopy(arr)\n",
        "\n",
        "def newModel (arr1, arr2):\n",
        "    i = 0\n",
        "    for i in range(len(arr1)):\n",
        "        for j in range(len(arr1)):    \n",
        "            arrcopym[i][j] = ((arr1[i][j]+arr2[i][j])/2)\n",
        "    \n",
        "    return arrcopym"
      ],
      "execution_count": null,
      "outputs": []
    },
    {
      "cell_type": "markdown",
      "metadata": {
        "id": "8_J5UJIdMtXi"
      },
      "source": [
        "# User to User"
      ]
    },
    {
      "cell_type": "markdown",
      "metadata": {
        "id": "Mfe9HMqnMtXi"
      },
      "source": [
        "4 Similar Users"
      ]
    },
    {
      "cell_type": "code",
      "metadata": {
        "id": "9Y5qLcmuMtXi",
        "outputId": "aed135ef-2f12-416f-9c91-ff6decd75fde"
      },
      "source": [
        "#Cosine Method\n",
        "user = input('Specify the User to reveal similar Users: ')\n",
        "pridictedValue = input('Specify the index to pridict: ')\n",
        "print('\\n[4] Most Similar Users to User (Cosine method)[' + user+'] are:')\n",
        "avg = average4(sortedArr2[int(user)][1],\n",
        "               sortedArr2[int(user)][2], sortedArr2[int(user)][3], sortedArr[int(user)][4])\n",
        "replaceWithW(arrCopy[int(user)], float(wAverage(user, 4, pridictedValue)), int(pridictedValue))\n",
        "mse = sklearn.metrics.mean_squared_error(arr[int(user)], arrCopy[int(user)])\n",
        "rmse = mt.sqrt(mse)\n",
        "print('[Average]: '+str(float(avg)))\n",
        "print('[Accuracy]:'+str(100 - rmse)+' RMSE')\n",
        "\n",
        "for i in range(len(key)):\n",
        "    if((i + 1) <= 4):\n",
        "        print('User[' + str(key[int(user)][i + 1])+']')\n",
        "\n",
        "print('\\n[Pridicted missing value through Weighted Average]: ' +\n",
        "      str(float(wAverage(user, 4, pridictedValue))))\n",
        "\n",
        "#Pearson Method\n",
        "user = input('Specify the User to reveal similar Users: ')\n",
        "pridictedValue = input('Specify the index to pridict: ')\n",
        "print('\\n[4] Most Similar Users to User (Pearson method)[' + user+'] are: ')\n",
        "avg = average4(sortedArrP2[int(user)][1],\n",
        "               sortedArrP2[int(user)][2], sortedArrP2[int(user)][3], sortedArrP2[int(user)][4])\n",
        "replaceWithW(arrCopy2[int(user)], float(pwAverage(user, 4, pridictedValue)), int(pridictedValue))\n",
        "mse = sklearn.metrics.mean_squared_error(arr[int(user)], arrCopy2[int(user)])\n",
        "rmse = mt.sqrt(mse)\n",
        "print('[Average]: '+str(float(avg)))\n",
        "print('[Accuracy]:'+str(100 - rmse)+' RMSE')\n",
        "\n",
        "for i in range(len(pkey)):\n",
        "    if((i + 1) <= 4):\n",
        "        print('User[' + str(pkey[int(user)][i + 1])+']')\n",
        "\n",
        "print('\\n[Pridicted missing value through Weighted Average]: ' +\n",
        "      str(float(pwAverage(user, 4, pridictedValue))))\n",
        "\n",
        "print(\"New model based after averaging Cosine and Pearson:\")\n",
        "mse = sklearn.metrics.mean_squared_error(arrCopy, arrCopy2)\n",
        "rmse = mt.sqrt(mse)\n",
        "print('[Accuracy]:'+str(100 - rmse)+' RMSE')\n",
        "print(newModel(arrCopy, arrCopy2))\n",
        "print(\"\")\n",
        "print(\"Original:\")\n",
        "print(arrCopy)"
      ],
      "execution_count": null,
      "outputs": [
        {
          "output_type": "stream",
          "text": [
            "Specify the User to reveal similar Users: 0\n",
            "Specify the index to pridict: 0\n",
            "\n",
            "[4] Most Similar Users to User (Cosine method)[0] are:\n",
            "[Average]: 0.7315693746684003\n",
            "[Accuracy]:94.70849737787081 RMSE\n",
            "User[6]\n",
            "User[2]\n",
            "User[3]\n",
            "User[4]\n",
            "\n",
            "[Pridicted missing value through Weighted Average]: 26.74422294789567\n",
            "Specify the User to reveal similar Users: 0\n",
            "Specify the index to pridict: 1\n",
            "\n",
            "[4] Most Similar Users to User (Pearson method)[0] are: \n",
            "[Average]: 0.12304315654310233\n",
            "[Accuracy]:75.0829949059454 RMSE\n",
            "User[6]\n",
            "User[2]\n",
            "User[3]\n",
            "User[5]\n",
            "\n",
            "[Pridicted missing value through Weighted Average]: 19.39862911898359\n",
            "New model based after averaging Cosine and Pearson:\n",
            "[Accuracy]:77.81386717348158 RMSE\n",
            "[[33 15 25 12 18 25 38]\n",
            " [20 40  9 26 21 10 11]\n",
            " [25  9 50 25 44 41 21]\n",
            " [12 26 25  0 23 27 42]\n",
            " [18 21 44 23 20 22 48]\n",
            " [25 10 41 27 22 55  6]\n",
            " [38 11 21 42 48  6 33]]\n",
            "\n",
            "Original:\n",
            "[[26 11  0  4 37 22 44]\n",
            " [30 40 18 18  0 11  0]\n",
            " [50  0 50  9 41 54 32]\n",
            " [20 35 41  0 18 21 41]\n",
            " [ 0 42 47 28 20 44 43]\n",
            " [28 10 28 33  0 55 12]\n",
            " [33 22 11 43 53  0 33]]\n"
          ],
          "name": "stdout"
        }
      ]
    },
    {
      "cell_type": "markdown",
      "metadata": {
        "id": "rS7fpc-_MtXj"
      },
      "source": [
        "3 Similar Users"
      ]
    },
    {
      "cell_type": "code",
      "metadata": {
        "id": "xpf-SBIdMtXk",
        "outputId": "2a1f7d42-17d8-47b0-8a13-d96bce399eb5"
      },
      "source": [
        "#Cosine Method\n",
        "user = input('Specify the User to reveal similar Users: ')\n",
        "pridictedValue = input('Specify the index to pridict: ')\n",
        "\n",
        "print('\\n[3] Most Similar Users to User (Cosine Method) [' + user+'] are:')\n",
        "avg = average3(sortedArr2[int(user)][1],\n",
        "               sortedArr2[int(user)][2], sortedArr2[int(user)][3])\n",
        "replaceWithW(arrCopy[int(user)], float(wAverage(user, 3, pridictedValue)), int(pridictedValue))\n",
        "mse = sklearn.metrics.mean_squared_error(arr[int(user)], arrCopy[int(user)])\n",
        "rmse = mt.sqrt(mse)\n",
        "print('[Average]: '+str(float(avg)))\n",
        "print('[Accuracy]:'+str(100 - rmse)+' RMSE')\n",
        "\n",
        "for i in range(len(key)):\n",
        "    if((i + 1) <= 3):\n",
        "        print('User[' + str(key[int(user)][i + 1])+']')\n",
        "\n",
        "print('\\n[Pridicted missing value through Weighted Average]: ' +\n",
        "      str(float(wAverage(user, 3, pridictedValue))))\n",
        "\n",
        "#Pearson Method\n",
        "user = input('Specify the User to reveal similar Users: ')\n",
        "pridictedValue = input('Specify the index to pridict: ')\n",
        "print('\\n[3] Most Similar Users to User (Pearson method) [' + user+'] are: ')\n",
        "avg = average3(sortedArrP2[int(user)][1],\n",
        "               sortedArrP2[int(user)][2], sortedArrP2[int(user)][3])\n",
        "replaceWithW(arrCopy2[int(user)], float(pwAverage(user, 3, pridictedValue)), int(pridictedValue))\n",
        "mse = sklearn.metrics.mean_squared_error(arr[int(user)], arrCopy2[int(user)])\n",
        "rmse = mt.sqrt(mse)\n",
        "print('[Average]: '+str(float(avg)))\n",
        "print('[Accuracy]:'+str(100 - rmse)+' RMSE')\n",
        "\n",
        "for i in range(len(pkey)):\n",
        "    if((i + 1) <= 3):\n",
        "        print('User[' + str(pkey[int(user)][i + 1])+']')\n",
        "\n",
        "print('\\n[Pridicted missing value through Weighted Average]: ' +\n",
        "      str(float(pwAverage(user, 3, pridictedValue))))\n",
        "\n",
        "print(\"New model based after averaging Cosine and Pearson: \")\n",
        "mse = sklearn.metrics.mean_squared_error(arrCopy, arrCopy2)\n",
        "rmse = mt.sqrt(mse)\n",
        "print('[Accuracy]:'+str(100 - rmse)+' RMSE')\n",
        "print(newModel(arrCopy, arrCopy2))\n",
        "print(\"\")\n",
        "print(\"Original: \")\n",
        "print(arrCopy)\n"
      ],
      "execution_count": null,
      "outputs": [
        {
          "output_type": "stream",
          "text": [
            "Specify the User to reveal similar Users: 0\n",
            "Specify the index to pridict: 0\n",
            "\n",
            "[3] Most Similar Users to User (Cosine Method) [0] are:\n",
            "[Average]: 0.7774972948007628\n",
            "[Accuracy]:97.73221316194464 RMSE\n",
            "User[6]\n",
            "User[2]\n",
            "User[3]\n",
            "\n",
            "[Pridicted missing value through Weighted Average]: 34.24915464495578\n",
            "Specify the User to reveal similar Users: 0\n",
            "Specify the index to pridict: 1\n",
            "\n",
            "[3] Most Similar Users to User (Pearson method) [0] are: \n",
            "[Average]: 0.2732585303334473\n",
            "[Accuracy]:96.97628421592619 RMSE\n",
            "User[6]\n",
            "User[2]\n",
            "User[3]\n",
            "\n",
            "[Pridicted missing value through Weighted Average]: 19.88516012925192\n",
            "New model based after averaging Cosine and Pearson: \n",
            "[Accuracy]:98.57142857142857 RMSE\n",
            "[[37 15  0  4 37 22 44]\n",
            " [30 40 18 18  0 11  0]\n",
            " [50  0 50  9 41 54 32]\n",
            " [20 35 41  0 18 21 41]\n",
            " [ 0 42 47 28 20 44 43]\n",
            " [28 10 28 33  0 55 12]\n",
            " [33 22 11 43 53  0 33]]\n",
            "\n",
            "Original: \n",
            "[[34 11  0  4 37 22 44]\n",
            " [30 40 18 18  0 11  0]\n",
            " [50  0 50  9 41 54 32]\n",
            " [20 35 41  0 18 21 41]\n",
            " [ 0 42 47 28 20 44 43]\n",
            " [28 10 28 33  0 55 12]\n",
            " [33 22 11 43 53  0 33]]\n"
          ],
          "name": "stdout"
        }
      ]
    },
    {
      "cell_type": "markdown",
      "metadata": {
        "id": "Z28wN1-9MtXl"
      },
      "source": [
        "2 Similar Users"
      ]
    },
    {
      "cell_type": "code",
      "metadata": {
        "id": "pYbNwxWQMtXm",
        "outputId": "00a5ece1-c1ac-4fa4-aef5-57fdb090388f"
      },
      "source": [
        "#Cosine Method\n",
        "user = input('Specify the User to reveal similar Users: ')\n",
        "pridictedValue = input('Specify the index to pridict: ')\n",
        "\n",
        "print('\\n[2] Most Similar Users to User (Cosine Method) [' + user+'] are:')\n",
        "avg = average2(sortedArr2[int(user)][1],\n",
        "               sortedArr2[int(user)][2])\n",
        "replaceWithW(arrCopy[int(user)], float(wAverage(user, 2, pridictedValue)), int(pridictedValue))\n",
        "mse = sklearn.metrics.mean_squared_error(arr[int(user)], arrCopy[int(user)])\n",
        "rmse = mt.sqrt(mse)\n",
        "print('[Average]: '+str(float(avg)))\n",
        "print('[Accuracy]:'+str(100 - rmse)+' RMSE')\n",
        "\n",
        "for i in range(len(key)):\n",
        "    if((i + 1) <= 2):\n",
        "        print('User[' + str(key[int(user)][i + 1])+']')\n",
        "\n",
        "print('\\n[Pridicted missing value through Weighted Average]: ' +\n",
        "      str(float(wAverage(user, 2, pridictedValue))))\n",
        "\n",
        "#Pearson Method\n",
        "user = input('Specify the User to reveal similar Users: ')\n",
        "pridictedValue = input('Specify the index to pridict: ')\n",
        "print('\\n[2] Most Similar Users to User (Pearson method) [' + user+'] are: ')\n",
        "avg = average2(sortedArrP2[int(user)][1],\n",
        "               sortedArrP2[int(user)][2])\n",
        "replaceWithW(arrCopy2[int(user)], float(pwAverage(user, 2, pridictedValue)), int(pridictedValue))\n",
        "mse = sklearn.metrics.mean_squared_error(arr[int(user)], arrCopy2[int(user)])\n",
        "rmse = mt.sqrt(mse)\n",
        "print('[Average]: '+str(float(avg)))\n",
        "print('[Accuracy]:'+str(100 - rmse)+' RMSE')\n",
        "\n",
        "for i in range(len(pkey)):\n",
        "    if((i + 1) <= 2):\n",
        "        print('User[' + str(pkey[int(user)][i + 1])+']')\n",
        "\n",
        "print('\\n[Pridicted missing value through Weighted Average]: ' +\n",
        "      str(float(pwAverage(user, 2, pridictedValue))))\n",
        "\n",
        "print(\"New model based after averaging Cosine and Pearson: \")\n",
        "mse = sklearn.metrics.mean_squared_error(arrCopy, arrCopy2)\n",
        "rmse = mt.sqrt(mse)\n",
        "print('[Accuracy]:'+str(100 - rmse)+' RMSE')\n",
        "print(newModel(arrCopy, arrCopy2))\n",
        "print(\"\")\n",
        "print(\"Original: \")\n",
        "print(arrCopy)\n"
      ],
      "execution_count": null,
      "outputs": [
        {
          "output_type": "stream",
          "text": [
            "Specify the User to reveal similar Users: 0\n",
            "Specify the index to pridict: 0\n",
            "\n",
            "[2] Most Similar Users to User (Cosine Method) [0] are:\n",
            "[Average]: 0.8011256314560466\n",
            "[Accuracy]:100.0 RMSE\n",
            "User[6]\n",
            "User[2]\n",
            "\n",
            "[Pridicted missing value through Weighted Average]: 40.56950581844743\n",
            "Specify the User to reveal similar Users: 0\n",
            "Specify the index to pridict: 1\n",
            "\n",
            "[2] Most Similar Users to User (Pearson method) [0] are: \n",
            "[Average]: 0.36510464352415717\n",
            "[Accuracy]:98.48814210796309 RMSE\n",
            "User[6]\n",
            "User[2]\n",
            "\n",
            "[Pridicted missing value through Weighted Average]: 15.99108276861883\n",
            "New model based after averaging Cosine and Pearson: \n",
            "[Accuracy]:99.42857142857143 RMSE\n",
            "[[40 13  0  4 37 22 44]\n",
            " [30 40 18 18  0 11  0]\n",
            " [50  0 50  9 41 54 32]\n",
            " [20 35 41  0 18 21 41]\n",
            " [ 0 42 47 28 20 44 43]\n",
            " [28 10 28 33  0 55 12]\n",
            " [33 22 11 43 53  0 33]]\n",
            "\n",
            "Original: \n",
            "[[40 11  0  4 37 22 44]\n",
            " [30 40 18 18  0 11  0]\n",
            " [50  0 50  9 41 54 32]\n",
            " [20 35 41  0 18 21 41]\n",
            " [ 0 42 47 28 20 44 43]\n",
            " [28 10 28 33  0 55 12]\n",
            " [33 22 11 43 53  0 33]]\n"
          ],
          "name": "stdout"
        }
      ]
    },
    {
      "cell_type": "markdown",
      "metadata": {
        "id": "z71E_cygMtXo"
      },
      "source": [
        "# Item - Item"
      ]
    },
    {
      "cell_type": "code",
      "metadata": {
        "id": "CnzsAi0nMtXo",
        "outputId": "0661dd51-fb36-4d23-9d25-46383a04d37d"
      },
      "source": [
        "tranposedArray = arr.T\n",
        "\n",
        "print(np.array(tranposedArray))\n",
        "\n",
        "result2 = []\n",
        "result2 = simMatrix(arrT)\n",
        "\n",
        "presult2 = []\n",
        "presult2 = PearMatrix(arrT)\n",
        "\n",
        "print('\\n Item to item cosine /n ' + str(np.array(result2)))\n",
        "\n",
        "print('\\n item to item pearson /n' + str(np.array(presult2)))"
      ],
      "execution_count": null,
      "outputs": [
        {
          "output_type": "stream",
          "text": [
            "[[40 30 50 20  0 28 33]\n",
            " [11 40  0 35 42 10 22]\n",
            " [ 0 18 50 41 47 28 11]\n",
            " [ 4 18  9  0 28 33 43]\n",
            " [37  0 41 18 20  0 53]\n",
            " [22 11 54 21 44 55  0]\n",
            " [44  0 32 41 43 12 33]]\n",
            "\n",
            " Item to item cosine /n [[1.         0.53923388 0.67262315 0.63633282 0.81495452 0.72866156\n",
            "  0.74786947]\n",
            " [0.53923388 1.         0.73232757 0.6866993  0.51546366 0.5550692\n",
            "  0.71486862]\n",
            " [0.67262315 0.73232757 1.         0.62064819 0.60871935 0.89348288\n",
            "  0.78231494]\n",
            " [0.63633282 0.6866993  0.62064819 1.         0.64261751 0.6281115\n",
            "  0.61574797]\n",
            " [0.81495452 0.51546366 0.60871935 0.64261751 1.         0.5592227\n",
            "  0.88173588]\n",
            " [0.72866156 0.5550692  0.89348288 0.6281115  0.5592227  1.\n",
            "  0.73590484]\n",
            " [0.74786947 0.71486862 0.78231494 0.61574797 0.88173588 0.73590484\n",
            "  1.        ]]\n",
            "\n",
            " item to item pearson /n[[ 1.         -0.79626252 -0.32686522 -0.25220423  0.40561127 -0.03601042\n",
            "  -0.1751555 ]\n",
            " [-0.79626252  1.          0.1024628   0.08207514 -0.40505572 -0.42793845\n",
            "  -0.06837858]\n",
            " [-0.32686522  0.1024628   1.         -0.14917893 -0.16963129  0.64662565\n",
            "   0.14970055]\n",
            " [-0.25220423  0.08207514 -0.14917893  1.          0.04927116 -0.08337059\n",
            "  -0.28923691]\n",
            " [ 0.40561127 -0.40505572 -0.16963129  0.04927116  1.         -0.26871292\n",
            "   0.64484192]\n",
            " [-0.03601042 -0.42793845  0.64662565 -0.08337059 -0.26871292  1.\n",
            "   0.02134872]\n",
            " [-0.1751555  -0.06837858  0.14970055 -0.28923691  0.64484192  0.02134872\n",
            "   1.        ]]\n"
          ],
          "name": "stdout"
        }
      ]
    },
    {
      "cell_type": "markdown",
      "metadata": {
        "id": "16R1nSyzMtXp"
      },
      "source": [
        "# Transposed Sorted Indices Matrix"
      ]
    },
    {
      "cell_type": "code",
      "metadata": {
        "id": "jfshfbYUMtXq"
      },
      "source": [
        "key2 = []\n",
        "for i in result2:\n",
        "    key2.append(sorted(range(len(i)), reverse=True, key=lambda k: i[k]))\n",
        "key2 = np.array(key2)\n",
        "\n",
        "pkey2 = []\n",
        "for i in presult2:\n",
        "    pkey2.append(sorted(range(len(i)), reverse=True, key=lambda k: i[k]))\n",
        "pkey2 = np.array(pkey2)"
      ],
      "execution_count": null,
      "outputs": []
    },
    {
      "cell_type": "code",
      "metadata": {
        "id": "e_gsl9RrMtXq",
        "outputId": "c9368ada-6468-44a6-ab6f-7b523ef88b3c"
      },
      "source": [
        "print(\"\")\n",
        "print(key2)\n",
        "print(\"\")\n",
        "print(pkey2)"
      ],
      "execution_count": null,
      "outputs": [
        {
          "output_type": "stream",
          "text": [
            "\n",
            "[[0 4 6 5 2 3 1]\n",
            " [1 2 6 3 5 0 4]\n",
            " [2 5 6 1 0 3 4]\n",
            " [3 1 4 0 5 2 6]\n",
            " [4 6 0 3 2 5 1]\n",
            " [5 2 6 0 3 4 1]\n",
            " [6 4 2 0 5 1 3]]\n",
            "\n",
            "[[0 4 5 6 3 2 1]\n",
            " [1 2 3 6 4 5 0]\n",
            " [2 5 6 1 3 4 0]\n",
            " [3 1 4 5 2 0 6]\n",
            " [4 6 0 3 2 5 1]\n",
            " [5 2 6 0 3 4 1]\n",
            " [6 4 2 5 1 0 3]]\n"
          ],
          "name": "stdout"
        }
      ]
    },
    {
      "cell_type": "code",
      "metadata": {
        "id": "z2R0p96rMtXr"
      },
      "source": [
        "arrCopy2 = copy.deepcopy(tranposedArray)\n",
        "parrCopy2 = copy.deepcopy(tranposedArray)"
      ],
      "execution_count": null,
      "outputs": []
    },
    {
      "cell_type": "markdown",
      "metadata": {
        "id": "r9lfHi4jMtXs"
      },
      "source": [
        "4 Similar Items"
      ]
    },
    {
      "cell_type": "code",
      "metadata": {
        "id": "MJFIF5sCMtXs",
        "outputId": "daf537bb-d743-4769-c0e3-68b887993fb6"
      },
      "source": [
        "#Cosine Method\n",
        "sortedArr3 = sortedMatrix(result2)\n",
        "item = input('Specify the Item to reveal similar Item: ')\n",
        "pridictedValue = input('specify the index to pridict: ')\n",
        "\n",
        "avg = average4(sortedArr3[int(item)][1], sortedArr3[int(\n",
        "    item)][2], sortedArr3[int(item)][3], sortedArr3[int(item)][4])\n",
        "replaceWithW(arrCopy2[int(item)], float(wAverageI(item, 4, pridictedValue)), int(pridictedValue))\n",
        "mse = sklearn.metrics.mean_squared_error(\n",
        "    tranposedArray[int(item)], arrCopy2[int(item)])\n",
        "rmse = mt.sqrt(mse)\n",
        "print('[4] Most Similar Items to Item (Cosine Method) ['+item+'] are:')\n",
        "print('[Average]: '+str(float(avg)))\n",
        "print('[Accuracy]:'+str(100 - rmse)+' RMSE')\n",
        "for i in range(len(key2)):\n",
        "    if((i + 1) <= 4):\n",
        "        print('Item[' + str(key2[int(item)][i + 1])+']')\n",
        "\n",
        "print('\\n[Weighted Average]: '+str(float(wAverageI(item, 4, pridictedValue))))\n",
        "\n",
        "#Pearson Method\n",
        "sortedArrP3 = sortedMatrix(presult2)\n",
        "item = input('Specify the Item to reveal similar Item: ')\n",
        "pridictedValue = input('Specify the index to pridict: ')\n",
        "\n",
        "avg = average4(sortedArrP3[int(item)][1], sortedArrP3[int(\n",
        "    item)][2], sortedArrP3[int(item)][3], sortedArrP3[int(item)][4])\n",
        "replaceWithW(parrCopy2[int(item)], float(pwAverageI(item, 4, pridictedValue)), int(pridictedValue))\n",
        "mse = sklearn.metrics.mean_squared_error(\n",
        "    tranposedArray[int(item)], parrCopy2[int(item)])\n",
        "rmse = mt.sqrt(mse)\n",
        "print('[4] Most Similar Items to Item (Pearson Method) ['+item+'] are:')\n",
        "print('[Average]: '+str(float(avg)))\n",
        "print('[Accuracy]:'+str(100 - rmse)+' RMSE')\n",
        "for i in range(len(key2)):\n",
        "    if((i + 1) <= 4):\n",
        "        print('Item[' + str(key2[int(item)][i + 1])+']')\n",
        "\n",
        "print('\\n[Weighted Average]: '+str(float(pwAverageI(item, 4, pridictedValue))))\n",
        "\n",
        "print(\"New model based after averaging Cosine and Pearson: \")\n",
        "mse = sklearn.metrics.mean_squared_error(arrCopy, arrCopy2)\n",
        "rmse = mt.sqrt(mse)\n",
        "print('[Accuracy]:'+str(100 - rmse)+' RMSE')\n",
        "print(newModel(arrCopy2, parrCopy2))\n",
        "print(\"\")\n",
        "print(\"Original: \")\n",
        "print(arrCopy2)"
      ],
      "execution_count": null,
      "outputs": [
        {
          "output_type": "stream",
          "text": [
            "Specify the Item to reveal similar Item: 0\n",
            "specify the index to pridict: 0\n",
            "[4] Most Similar Items to Item (Cosine Method) [0] are:\n",
            "[Average]: 0.7410271765340456\n",
            "[Accuracy]:94.70849737787081 RMSE\n",
            "Item[4]\n",
            "Item[6]\n",
            "Item[5]\n",
            "Item[2]\n",
            "\n",
            "[Weighted Average]: 26.949872323224096\n",
            "Specify the Item to reveal similar Item: 0\n",
            "Specify the index to pridict: 1\n",
            "[4] Most Similar Items to Item (Pearson Method) [0] are:\n",
            "[Average]: -0.014439719849657882\n",
            "[Accuracy]:95.8423907968985 RMSE\n",
            "Item[4]\n",
            "Item[6]\n",
            "Item[5]\n",
            "Item[2]\n",
            "\n",
            "[Weighted Average]: 19.39862911898359\n",
            "New model based after averaging Cosine and Pearson: \n",
            "[Accuracy]:77.6776857318576 RMSE\n",
            "[[33 24 50 20  0 28 33]\n",
            " [11 40  0 35 42 10 22]\n",
            " [ 0 18 50 41 47 28 11]\n",
            " [ 4 18  9  0 28 33 43]\n",
            " [37  0 41 18 20  0 53]\n",
            " [22 11 54 21 44 55  0]\n",
            " [44  0 32 41 43 12 33]]\n",
            "\n",
            "Original: \n",
            "[[26 30 50 20  0 28 33]\n",
            " [11 40  0 35 42 10 22]\n",
            " [ 0 18 50 41 47 28 11]\n",
            " [ 4 18  9  0 28 33 43]\n",
            " [37  0 41 18 20  0 53]\n",
            " [22 11 54 21 44 55  0]\n",
            " [44  0 32 41 43 12 33]]\n"
          ],
          "name": "stdout"
        }
      ]
    },
    {
      "cell_type": "markdown",
      "metadata": {
        "id": "fU-Qt4KLMtXt"
      },
      "source": [
        "3 Similar Items"
      ]
    },
    {
      "cell_type": "code",
      "metadata": {
        "id": "XcJhTFFzMtXu",
        "outputId": "79770343-b4c5-46d2-ae0d-dee56fd11566"
      },
      "source": [
        "#Cosine Method\n",
        "sortedArr3 = sortedMatrix(result2)\n",
        "item = input('Specify the Item to reveal similar Item: ')\n",
        "pridictedValue = input('Specify the index to pridict: ')\n",
        "\n",
        "avg = average3(sortedArr3[int(item)][1], sortedArr3[int(\n",
        "    item)][2], sortedArr3[int(item)][3])\n",
        "replaceWithW(arrCopy2[int(item)], float(wAverageI(item, 3, pridictedValue)), int(pridictedValue))\n",
        "mse = sklearn.metrics.mean_squared_error(\n",
        "    tranposedArray[int(item)], arrCopy2[int(item)])\n",
        "rmse = mt.sqrt(mse)\n",
        "print('[3] Most Similar Items to Item (Cosine Method) ['+item+'] are:')\n",
        "print('[Average]: '+str(float(avg)))\n",
        "print('[Accuracy]:'+str(100 - rmse)+' RMSE')\n",
        "for i in range(len(key2)):\n",
        "    if((i + 1) <= 3):\n",
        "        print('Item[' + str(key2[int(item)][i + 1])+']')\n",
        "\n",
        "print('\\n[Weighted Average]: '+str(float(wAverageI(item, 3, pridictedValue))))\n",
        "\n",
        "#Pearson Method\n",
        "sortedArrP3 = sortedMatrix(presult2)\n",
        "item = input('Specify the Item to reveal similar Item: ')\n",
        "pridictedValue = input('Specify the index to pridict: ')\n",
        "\n",
        "avg = average3(sortedArrP3[int(item)][1], sortedArrP3[int(\n",
        "    item)][2], sortedArrP3[int(item)][3])\n",
        "replaceWithW(parrCopy2[int(item)], float(pwAverageI(item, 3, pridictedValue)), int(pridictedValue))\n",
        "mse = sklearn.metrics.mean_squared_error(\n",
        "    tranposedArray[int(item)], parrCopy2[int(item)])\n",
        "rmse = mt.sqrt(mse)\n",
        "print('[3] Most Similar Items to Item (Pearson Method) ['+item+'] are:')\n",
        "print('[Average]: '+str(float(avg)))\n",
        "print('[Accuracy]:'+str(100 - rmse)+' RMSE')\n",
        "for i in range(len(key2)):\n",
        "    if((i + 1) <= 3):\n",
        "        print('Item[' + str(key2[int(item)][i + 1])+']')\n",
        "\n",
        "print('\\n[Weighted Average]: '+str(float(pwAverageI(item, 3, pridictedValue))))\n",
        "\n",
        "print(\"New model based after averaging Cosine and Pearson: \")\n",
        "mse = sklearn.metrics.mean_squared_error(parrCopy2, arrCopy2)\n",
        "rmse = mt.sqrt(mse)\n",
        "print('[Accuracy]:'+str(100 - rmse)+' RMSE')\n",
        "print(newModel(arrCopy2, parrCopy2))\n",
        "print(\"\")\n",
        "print(\"Original: \")\n",
        "print(arrCopy2)\n"
      ],
      "execution_count": null,
      "outputs": [
        {
          "output_type": "stream",
          "text": [
            "Specify the Item to reveal similar Item: 0\n",
            "Specify the index to pridict: 0\n",
            "[3] Most Similar Items to Item (Cosine Method) [0] are:\n",
            "[Average]: 0.7638285185751498\n",
            "[Accuracy]:97.73221316194464 RMSE\n",
            "Item[4]\n",
            "Item[6]\n",
            "Item[5]\n",
            "\n",
            "[Weighted Average]: 34.61225418856216\n",
            "Specify the Item to reveal similar Item: 0\n",
            "Specify the index to pridict: 1\n",
            "[3] Most Similar Items to Item (Pearson Method) [0] are:\n",
            "[Average]: 0.06481511605167024\n",
            "[Accuracy]:95.8423907968985 RMSE\n",
            "Item[4]\n",
            "Item[6]\n",
            "Item[5]\n",
            "\n",
            "[Weighted Average]: 19.88516012925192\n",
            "New model based after averaging Cosine and Pearson: \n",
            "[Accuracy]:98.2100051305512 RMSE\n",
            "[[37 24 50 20  0 28 33]\n",
            " [11 40  0 35 42 10 22]\n",
            " [ 0 18 50 41 47 28 11]\n",
            " [ 4 18  9  0 28 33 43]\n",
            " [37  0 41 18 20  0 53]\n",
            " [22 11 54 21 44 55  0]\n",
            " [44  0 32 41 43 12 33]]\n",
            "\n",
            "Original: \n",
            "[[34 30 50 20  0 28 33]\n",
            " [11 40  0 35 42 10 22]\n",
            " [ 0 18 50 41 47 28 11]\n",
            " [ 4 18  9  0 28 33 43]\n",
            " [37  0 41 18 20  0 53]\n",
            " [22 11 54 21 44 55  0]\n",
            " [44  0 32 41 43 12 33]]\n"
          ],
          "name": "stdout"
        }
      ]
    },
    {
      "cell_type": "markdown",
      "metadata": {
        "id": "uxpA4SSIMtXv"
      },
      "source": [
        "2 Similar items"
      ]
    },
    {
      "cell_type": "code",
      "metadata": {
        "id": "sx-tmwvBMtXv",
        "outputId": "e4286a74-d1c5-4e63-a14e-4d734f47e1c8"
      },
      "source": [
        "#Cosine Method\n",
        "sortedArr3 = sortedMatrix(result2)\n",
        "item = input('Specify the Item to reveal similar Item: ')\n",
        "pridictedValue = input('Specify the index to pridict: ')\n",
        "\n",
        "avg = average2(sortedArr3[int(item)][1], sortedArr3[int(\n",
        "    item)][2])\n",
        "replaceWithW(arrCopy2[int(item)], float(wAverageI(item, 2, pridictedValue)), int(pridictedValue))\n",
        "mse = sklearn.metrics.mean_squared_error(\n",
        "    tranposedArray[int(item)], arrCopy2[int(item)])\n",
        "rmse = mt.sqrt(mse)\n",
        "print('[2] Most Similar Items to Item (Cosine Method) ['+item+'] are:')\n",
        "print('[Average]: '+str(float(avg)))\n",
        "print('[Accuracy]:'+str(100 - rmse)+' RMSE')\n",
        "for i in range(len(key2)):\n",
        "    if((i + 1) <= 2):\n",
        "        print('Item[' + str(key2[int(item)][i + 1])+']')\n",
        "\n",
        "print('\\n[Weighted Average]: '+str(float(wAverageI(item, 2, pridictedValue))))\n",
        "\n",
        "#Pearson Method\n",
        "sortedArrP3 = sortedMatrix(presult2)\n",
        "item = input('Specify the Item to reveal similar Item: ')\n",
        "pridictedValue = input('Specify the index to pridict: ')\n",
        "\n",
        "avg = average2(sortedArrP3[int(item)][1], sortedArrP3[int(\n",
        "    item)][2])\n",
        "replaceWithW(parrCopy2[int(item)], float(pwAverageI(item, 2, pridictedValue)), int(pridictedValue))\n",
        "mse = sklearn.metrics.mean_squared_error(\n",
        "    tranposedArray[int(item)], parrCopy2[int(item)])\n",
        "rmse = mt.sqrt(mse)\n",
        "print('[3] Most Similar Items to Item (Pearson Method) ['+item+'] are:')\n",
        "print('[Average]: '+str(float(avg)))\n",
        "print('[Accuracy]:'+str(100 - rmse)+' RMSE')\n",
        "for i in range(len(key2)):\n",
        "    if((i + 1) <= 2):\n",
        "        print('Item[' + str(key2[int(item)][i + 1])+']')\n",
        "\n",
        "print('\\n[Weighted Average]: '+str(float(pwAverageI(item, 2, pridictedValue))))\n",
        "print(\"New model based after averaging Cosine and Pearson: \")\n",
        "mse = sklearn.metrics.mean_squared_error(parrCopy2, arrCopy2)\n",
        "rmse = mt.sqrt(mse)\n",
        "print('[Accuracy]:'+str(100 - rmse)+' RMSE')\n",
        "print(newModel(arrCopy2, parrCopy2))\n",
        "print(\"\")\n",
        "print(\"Original: \")\n",
        "print(arrCopy2)\n"
      ],
      "execution_count": null,
      "outputs": [
        {
          "output_type": "stream",
          "text": [
            "Specify the Item to reveal similar Item: 0\n",
            "Specify the index to pridict: 0\n",
            "[2] Most Similar Items to Item (Cosine Method) [0] are:\n",
            "[Average]: 0.7814119964173027\n",
            "[Accuracy]:95.8423907968985 RMSE\n",
            "Item[4]\n",
            "Item[6]\n",
            "\n",
            "[Weighted Average]: 40.63337411201077\n",
            "Specify the Item to reveal similar Item: 0\n",
            "Specify the index to pridict: 1\n",
            "[3] Most Similar Items to Item (Pearson Method) [0] are:\n",
            "[Average]: 0.18480042399846705\n",
            "[Accuracy]:94.3305329048616 RMSE\n",
            "Item[4]\n",
            "Item[6]\n",
            "\n",
            "[Weighted Average]: 15.99108276861883\n",
            "New model based after averaging Cosine and Pearson: \n",
            "[Accuracy]:99.42857142857143 RMSE\n",
            "[[40 17 50 20  0 28 33]\n",
            " [11 40  0 35 42 10 22]\n",
            " [ 0 18 50 41 47 28 11]\n",
            " [ 4 18  9  0 28 33 43]\n",
            " [37  0 41 18 20  0 53]\n",
            " [22 11 54 21 44 55  0]\n",
            " [44  0 32 41 43 12 33]]\n",
            "\n",
            "Original: \n",
            "[[40 19 50 20  0 28 33]\n",
            " [11 40  0 35 42 10 22]\n",
            " [ 0 18 50 41 47 28 11]\n",
            " [ 4 18  9  0 28 33 43]\n",
            " [37  0 41 18 20  0 53]\n",
            " [22 11 54 21 44 55  0]\n",
            " [44  0 32 41 43 12 33]]\n"
          ],
          "name": "stdout"
        }
      ]
    },
    {
      "cell_type": "code",
      "metadata": {
        "id": "8eRedwxvMtXx"
      },
      "source": [
        ""
      ],
      "execution_count": null,
      "outputs": []
    }
  ]
}